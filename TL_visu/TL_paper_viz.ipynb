{
 "cells": [
  {
   "cell_type": "markdown",
   "metadata": {},
   "source": [
    "# Loading the model"
   ]
  },
  {
   "cell_type": "code",
   "execution_count": 1,
   "metadata": {},
   "outputs": [],
   "source": [
    "# from teacher_train import FilteredLymphoMNIST, get_dataloaders\n",
    "# from teacher_train import WeightedRandomSampler, balanced_weights\n",
    "from torch.utils.data import DataLoader, WeightedRandomSampler, Dataset\n",
    "from LymphoMNIST.LymphoMNIST import LymphoMNIST\n",
    "from torchvision import transforms"
   ]
  },
  {
   "cell_type": "code",
   "execution_count": 2,
   "metadata": {},
   "outputs": [],
   "source": [
    "import torch\n",
    "\n",
    "# Dataset class to filter by labels\n",
    "class FilteredLymphoMNIST(Dataset):\n",
    "    def __init__(self, original_dataset, labels_to_keep):\n",
    "        self.original_dataset = original_dataset\n",
    "        self.labels_to_keep = labels_to_keep\n",
    "        self.label_map = {label: i for i, label in enumerate(labels_to_keep)}\n",
    "        self.indices = [i for i, (_, label) in enumerate(original_dataset) if label in labels_to_keep]\n",
    "\n",
    "    def __getitem__(self, index):\n",
    "        original_index = self.indices[index]\n",
    "        image, label = self.original_dataset[original_index]\n",
    "        return image, self.label_map[label.item()]\n",
    "\n",
    "    def __len__(self):\n",
    "        return len(self.indices)\n",
    "    \n",
    "    \n",
    "# Function to get dataloaders\n",
    "def get_dataloaders(train_ds, val_ds, split=(0.5, 0.5), batch_size=64, sampler=None, *args, **kwargs):\n",
    "    lengths = [int(len(val_ds) * frac) for frac in split]\n",
    "    lengths[1] += len(val_ds) - sum(lengths)  # Correct split length sum\n",
    "    val_ds, test_ds = torch.utils.data.random_split(val_ds, lengths)\n",
    "\n",
    "    shuffle = False if sampler else True\n",
    "    train_dl = DataLoader(train_ds, batch_size=batch_size, shuffle=shuffle, sampler=sampler, *args, **kwargs)\n",
    "    val_dl = DataLoader(val_ds, batch_size=batch_size, shuffle=False, *args, **kwargs)\n",
    "    test_dl = DataLoader(test_ds, batch_size=batch_size, shuffle=False, *args, **kwargs)\n",
    "\n",
    "    return train_dl, val_dl, test_dl\n",
    "\n",
    "# Balanced weights function for weighted sampling\n",
    "def balanced_weights(dataset, nclasses):\n",
    "    count = [0] * nclasses\n",
    "    for _, label in dataset:\n",
    "        count[label] += 1\n",
    "    N = float(sum(count))\n",
    "    weight_per_class = [N / float(count[i]) for i in range(nclasses)]\n",
    "    return [weight_per_class[label] for _, label in dataset]\n"
   ]
  },
  {
   "cell_type": "code",
   "execution_count": 3,
   "metadata": {},
   "outputs": [],
   "source": [
    "# our hyperparameters\n",
    "params = {\n",
    "    'lr': 1e-5,\n",
    "    'batch_size': 16,\n",
    "    'epochs': 10000,\n",
    "    'model': \"Teacher_final-1c\",\n",
    "    'im_size': 120,\n",
    "}\n",
    "\n",
    "im_size = params['im_size']\n",
    "\n",
    "class ConvertToRGB:\n",
    "    def __call__(self, tensor):\n",
    "        if tensor.shape[0] == 1:\n",
    "            tensor = tensor.repeat(3, 1, 1)\n",
    "        return tensor\n",
    "    \n",
    "val_transform = transforms.Compose([\n",
    "    transforms.Resize((im_size, im_size)),\n",
    "    transforms.ToTensor(),\n",
    "    transforms.Normalize([0.4819], [0.1484]),\n",
    "    ConvertToRGB()\n",
    "])"
   ]
  },
  {
   "cell_type": "code",
   "execution_count": null,
   "metadata": {},
   "outputs": [],
   "source": [
    "\n",
    "# Initialize dataset\n",
    "original_train_ds = LymphoMNIST(root='../dataset', train=True, download=True, transform=val_transform, num_classes=3)\n",
    "original_test_ds = LymphoMNIST(root='../dataset', train=False, download=True, transform=val_transform, num_classes=3)\n",
    "\n",
    "\n",
    "# Specify labels to keep\n",
    "labels_to_keep = [0, 2] # 0: B, 1: T4, 2: T8\n",
    "\n",
    "# Initialize filtered dataset with labels to keep\n",
    "train_ds = FilteredLymphoMNIST(original_train_ds, labels_to_keep)\n",
    "test_ds= FilteredLymphoMNIST(original_test_ds, labels_to_keep)\n",
    "\n",
    "weights = balanced_weights(train_ds, len(labels_to_keep))\n",
    "sampler = WeightedRandomSampler(weights, len(weights))\n",
    "# Create the dataloaders\n",
    "train_dl, val_dl, test_dl = get_dataloaders(train_ds,\n",
    "                                            test_ds,\n",
    "                                            split=(0.5, 0.5),\n",
    "                                            batch_size=params['batch_size'],\n",
    "                                            sampler=sampler,\n",
    "                                            num_workers=4\n",
    "                                           )"
   ]
  },
  {
   "cell_type": "code",
   "execution_count": 5,
   "metadata": {},
   "outputs": [],
   "source": [
    "import torch\n",
    "from torchvision import models\n",
    "from torch import nn\n",
    "\n",
    "def calculate_accuracy(loader, model, device):\n",
    "    model.eval()\n",
    "    correct = 0\n",
    "    total = 0\n",
    "    with torch.no_grad():\n",
    "        for images, labels in loader:\n",
    "            images, labels = images.to(device), labels.to(device)\n",
    "            outputs = model(images)\n",
    "            _, predicted = torch.max(outputs, 1)\n",
    "            total += labels.size(0)\n",
    "            correct += (predicted == labels).sum().item()\n",
    "\n",
    "    accuracy = 100 * correct / total\n",
    "    return accuracy\n",
    "\n",
    "\n",
    "\n",
    "device = 'cuda' if torch.cuda.is_available() else 'cpu'\n",
    "\n",
    "\n",
    "# Load the model\n",
    "model = models.resnet50()\n",
    "model.fc = nn.Linear(model.fc.in_features, len(labels_to_keep))\n",
    "\n",
    "# Load the saved weights and map them to the correct device\n",
    "# model.load_state_dict(torch.load(\"../checkpoint/Final_models/Teacher_imsize-120_30 September 22:37.pt\", map_location=device))\n",
    "model.load_state_dict(torch.load(\"../checkpoint/Transfer-unfreeze-faster_17 October 13:10.pt\", map_location=device))\n",
    "\n",
    "model = model.to(device)\n"
   ]
  },
  {
   "cell_type": "code",
   "execution_count": 6,
   "metadata": {},
   "outputs": [],
   "source": [
    "def evaluate_model(model, dataloader, device):\n",
    "    y_pred = []\n",
    "    y_true = []\n",
    "\n",
    "    # Set model to evaluation mode\n",
    "    model.eval()\n",
    "\n",
    "    with torch.no_grad():\n",
    "        for image, target in dataloader:\n",
    "            image, target = image.to(device), target.to(device)\n",
    "            outputs = model(image)\n",
    "            output = (torch.max(outputs, 1)[1]).data.cpu().numpy()\n",
    "            y_pred.extend(output)  # Save Prediction\n",
    "            target = target.data.cpu().numpy()\n",
    "            y_true.extend(target)  # Save target\n",
    "\n",
    "    return y_true, y_pred"
   ]
  },
  {
   "cell_type": "code",
   "execution_count": null,
   "metadata": {},
   "outputs": [],
   "source": [
    "from torchsummary import summary\n",
    "summary(model, (3, 120, 120))"
   ]
  },
  {
   "cell_type": "markdown",
   "metadata": {},
   "source": [
    "# Train vs validation accuracy"
   ]
  },
  {
   "cell_type": "code",
   "execution_count": null,
   "metadata": {},
   "outputs": [],
   "source": [
    "test_acc = calculate_accuracy(test_dl, model, device)\n",
    "print(f'Test Accuracy: {test_acc:.2f}%')\n"
   ]
  },
  {
   "cell_type": "code",
   "execution_count": null,
   "metadata": {},
   "outputs": [],
   "source": [
    "test_acc = calculate_accuracy(train_dl, model, device)\n",
    "print(f'Train Accuracy: {test_acc:.2f}%')\n"
   ]
  },
  {
   "cell_type": "code",
   "execution_count": null,
   "metadata": {},
   "outputs": [],
   "source": [
    "test_acc = calculate_accuracy(val_dl, model, device)\n",
    "print(f'Val Accuracy: {test_acc:.2f}%')"
   ]
  },
  {
   "cell_type": "code",
   "execution_count": null,
   "metadata": {},
   "outputs": [],
   "source": [
    "from sklearn.metrics import precision_score, recall_score, f1_score, roc_auc_score, accuracy_score\n",
    "\n",
    "def get_metrics(y_true, y_pred):\n",
    "    precision = precision_score(y_true, y_pred, average='weighted')\n",
    "    recall = recall_score(y_true, y_pred, average='weighted')\n",
    "    f1 = f1_score(y_true, y_pred, average='weighted')\n",
    "    auroc = roc_auc_score(y_true, y_pred, average='weighted', multi_class='ovr')\n",
    "    accuracy = accuracy_score(y_true, y_pred)\n",
    "    \n",
    "    return precision, recall, f1, auroc, accuracy\n",
    "\n",
    "# Evaluate the model on the validation set\n",
    "y_true, y_pred = evaluate_model(model, test_dl, device)\n",
    "\n",
    "# Get the metrics\n",
    "precision, recall, f1, auroc, accuracy = get_metrics(y_true, y_pred)\n",
    "\n",
    "print(f'Precision: {precision:.2f}')\n",
    "print(f'Recall: {recall:.2f}')\n",
    "print(f'F1 Score: {f1:.2f}')\n",
    "print(f'AUROC: {auroc:.2f}')\n",
    "print(f'Accuracy: {accuracy:.2f}')"
   ]
  },
  {
   "cell_type": "markdown",
   "metadata": {},
   "source": [
    "# compare all results"
   ]
  },
  {
   "cell_type": "code",
   "execution_count": null,
   "metadata": {},
   "outputs": [],
   "source": [
    "import matplotlib.pyplot as plt\n",
    "\n",
    "# List of color codes\n",
    "colors10 = ['#7bbbe0', '#f3df3d', '#2ba77b', '#2274b2', '#e9a001',\n",
    "            '#818082', '#545253', '#8d2db1', '#d17aad', '#d4580d']\n",
    "\n",
    "# Create a figure and axis\n",
    "fig, ax = plt.subplots(figsize=(10, 2))\n",
    "\n",
    "# Plot each color as a rectangle\n",
    "for i, color in enumerate(colors10):\n",
    "    ax.add_patch(plt.Rectangle((i, 0), 1, 1, color=color))\n",
    "\n",
    "# Set axis limits and remove ticks\n",
    "ax.set_xlim(0, len(colors10))\n",
    "ax.set_ylim(0, 1)\n",
    "ax.set_xticks([])\n",
    "ax.set_yticks([])\n",
    "\n",
    "# Display the plot\n",
    "plt.title('Visualization of Color Codes')\n",
    "plt.show()\n"
   ]
  },
  {
   "cell_type": "code",
   "execution_count": 12,
   "metadata": {},
   "outputs": [],
   "source": [
    "# graph values\n",
    "model_accuracy = [98,94.5,90,93,97]\n",
    "model_labels = ['Teacher', 'Student 1', 'Student 2', 'Transfer0', 'Transfer' ]\n",
    "model_precision = [97, 94, 90, 94, 97]\n",
    "model_recall= [97, 94, 89, 93, 97]\n",
    "model_f1_score = [97, 94, 89, 93, 97]\n",
    "model_auroc = [97, 94, 89, 94, 97]"
   ]
  },
  {
   "cell_type": "markdown",
   "metadata": {},
   "source": [
    "#### pltting the bar chart"
   ]
  },
  {
   "cell_type": "markdown",
   "metadata": {},
   "source": [
    "#### accuracy"
   ]
  },
  {
   "cell_type": "code",
   "execution_count": null,
   "metadata": {},
   "outputs": [],
   "source": [
    "import matplotlib.pyplot as plt\n",
    "import numpy as np\n",
    "\n",
    "font_size=12\n",
    "font = {'size'   : font_size}\n",
    "plt.rc('font', **font)\n",
    "# plt.rc('text', usetex=True)\n",
    "plt.rcParams['axes.linewidth'] = 1.50\n",
    "\n",
    "X_vals = np.array(model_accuracy)*.01\n",
    "std_errors = np.array([ 0.157, 0.221, 0.342, .236, 0.221])*.01\n",
    "\n",
    "\n",
    "colors4 = ['#2ba77b', '#2274b2', '#e9a001', '#545253', '#d4580d']\n",
    "\n",
    "# Width of the bars\n",
    "bar_width = 0.6\n",
    "\n",
    "f, ax = plt.subplots(figsize=(2.1, 3.1), dpi = 100)\n",
    "\n",
    "bars = ax.bar(model_labels, X_vals, yerr=std_errors, align='center', alpha=0.5, edgecolor='none', linewidth=0, error_kw={'elinewidth':.5}, width = bar_width, capsize=3)\n",
    "\n",
    "ax.tick_params(axis='both', length=10, width=0.0, color= 'gray', direction='in')\n",
    "ax.tick_params(axis='both', length=10, width=0.0, color= 'gray', direction='in')\n",
    "\n",
    "print(len(bars))\n",
    "for i, bar in enumerate(bars):\n",
    "    bar.set_color(colors4[i])\n",
    "\n",
    "# ax.set_ylabel('Precission (\\%)')\n",
    "ax.title.set_text('Accuracy')  \n",
    "plt.yticks( fontsize = 12)\n",
    "plt.xticks(rotation=90, fontsize = 12)\n",
    "plt.ylim([.8, 1])\n",
    "\n",
    "image_name = \"accuracy\"\n",
    "plt.savefig(image_name+ '.svg', format='svg', dpi=1200, bbox_inches='tight')\n",
    "plt.savefig(image_name+ '.png', format='png', dpi=1200, bbox_inches='tight')\n"
   ]
  },
  {
   "cell_type": "markdown",
   "metadata": {},
   "source": [
    "### precision"
   ]
  },
  {
   "cell_type": "code",
   "execution_count": 3,
   "metadata": {},
   "outputs": [
    {
     "name": "stdout",
     "output_type": "stream",
     "text": [
      "5\n"
     ]
    },
    {
     "data": {
      "image/png": "[encoded data removed]",
      "text/plain": [
       "<Figure size 210x310 with 1 Axes>"
      ]
     },
     "metadata": {},
     "output_type": "display_data"
    }
   ],
   "source": [
    "import matplotlib.pyplot as plt\n",
    "import numpy as np\n",
    "\n",
    "font_size=12\n",
    "font = {'size'   : font_size}\n",
    "plt.rc('font', **font)\n",
    "# plt.rc('text', usetex=True)\n",
    "plt.rcParams['axes.linewidth'] = 1.50\n",
    "\n",
    "X_vals = np.array(model_precision)*.01\n",
    "std_errors = np.array([0.221, 0.342, 0.266, 0.314, 0.266])*.01\n",
    "\n",
    "\n",
    "colors4 = ['#2ba77b', '#2274b2', '#e9a001', '#545253', '#d4580d']\n",
    "\n",
    "# Width of the bars\n",
    "bar_width = 0.6\n",
    "\n",
    "f, ax = plt.subplots(figsize=(2.1, 3.1), dpi = 100)\n",
    "\n",
    "bars = ax.bar(model_labels, X_vals, yerr=std_errors, align='center', alpha=0.5, edgecolor='none', linewidth=0, error_kw={'elinewidth':.5}, width = bar_width, capsize=3)\n",
    "\n",
    "ax.tick_params(axis='both', length=10, width=0.0, color= 'gray', direction='in')\n",
    "ax.tick_params(axis='both', length=10, width=0.0, color= 'gray', direction='in')\n",
    "\n",
    "print(len(bars))\n",
    "for i, bar in enumerate(bars):\n",
    "    bar.set_color(colors4[i])\n",
    "\n",
    "# ax.set_ylabel('Precission (\\%)')\n",
    "ax.title.set_text('Precision')  \n",
    "plt.yticks( fontsize = 12)\n",
    "plt.xticks(rotation=90, fontsize = 12)\n",
    "plt.ylim([.8, 1])\n",
    "\n",
    "image_name = \"precision\"\n",
    "plt.savefig(image_name+ '.svg', format='svg', dpi=1200, bbox_inches='tight')\n",
    "plt.savefig(image_name+ '.png', format='png', dpi=1200, bbox_inches='tight')\n"
   ]
  },
  {
   "cell_type": "markdown",
   "metadata": {},
   "source": [
    "#### recall"
   ]
  },
  {
   "cell_type": "code",
   "execution_count": 6,
   "metadata": {},
   "outputs": [
    {
     "data": {
      "image/png": "[encoded data removed]",
      "text/plain": [
       "<Figure size 210x310 with 1 Axes>"
      ]
     },
     "metadata": {},
     "output_type": "display_data"
    }
   ],
   "source": [
    "import matplotlib.pyplot as plt\n",
    "import numpy as np\n",
    "\n",
    "font_size=12\n",
    "font = {'size'   : font_size}\n",
    "plt.rc('font', **font)\n",
    "# plt.rc('text', usetex=True)\n",
    "plt.rcParams['axes.linewidth'] = 1.50\n",
    "\n",
    "\n",
    "X_vals = np.array(model_recall)*.01\n",
    "std_errors = np.array([0.166, 0.177, 0.32,  0.157,  0.177])*.01\n",
    "\n",
    "colors4 = ['#2ba77b', '#2274b2', '#e9a001', '#545253', '#d4580d']\n",
    "\n",
    "# Width of the bars\n",
    "bar_width = 0.6\n",
    "\n",
    "f, ax = plt.subplots(figsize=(2.1, 3.1), dpi = 100)\n",
    "\n",
    "bars = ax.bar(model_labels, X_vals, yerr=std_errors, align='center', alpha=0.5, \n",
    "              edgecolor='none', linewidth=0, error_kw={'elinewidth':.5}, width = bar_width, capsize=3)\n",
    "\n",
    "ax.tick_params(axis='both', length=10, width=0.0, color= 'gray', direction='in')\n",
    "ax.tick_params(axis='both', length=10, width=0.0, color= 'gray', direction='in')\n",
    "\n",
    "for i, bar in enumerate(bars):\n",
    "    bar.set_color(colors4[i])\n",
    "\n",
    "ax.title.set_text('Recall') \n",
    "plt.yticks( fontsize = 12)\n",
    "plt.xticks(rotation=90, fontsize = 12)\n",
    "plt.ylim([.80, 1])\n",
    "\n",
    "image_name = \"recall\"\n",
    "plt.savefig(image_name+ '.svg', format='svg', dpi=1200, bbox_inches='tight')\n",
    "plt.savefig(image_name+ '.png', format='png', dpi=1200, bbox_inches='tight')"
   ]
  },
  {
   "cell_type": "markdown",
   "metadata": {},
   "source": [
    "#### F1 -score"
   ]
  },
  {
   "cell_type": "code",
   "execution_count": 9,
   "metadata": {},
   "outputs": [
    {
     "data": {
      "image/png": "[encoded data removed]",
      "text/plain": [
       "<Figure size 210x310 with 1 Axes>"
      ]
     },
     "metadata": {},
     "output_type": "display_data"
    }
   ],
   "source": [
    "import matplotlib.pyplot as plt\n",
    "import numpy as np\n",
    "\n",
    "font_size=12\n",
    "font = {'size'   : font_size}\n",
    "plt.rc('font', **font)\n",
    "# plt.rc('text', usetex=True)\n",
    "plt.rcParams['axes.linewidth'] = 1.50\n",
    "\n",
    "X_vals = np.array(model_f1_score)*.01\n",
    "std_errors = np.array([0.166, 0.177, 0.32,  0.157, 0.177])*.01\n",
    "\n",
    "\n",
    "colors4 = ['#2ba77b', '#2274b2', '#e9a001', '#545253', '#d4580d']\n",
    "\n",
    "# Width of the bars\n",
    "bar_width = 0.6\n",
    "\n",
    "f, ax = plt.subplots(figsize=(2.1, 3.1), dpi = 100)\n",
    "\n",
    "bars = ax.bar(model_labels, X_vals, yerr=std_errors, align='center', alpha=0.5, \n",
    "              edgecolor='none', linewidth=0, error_kw={'elinewidth':.5}, width = bar_width, capsize=3)\n",
    "\n",
    "ax.tick_params(axis='both', length=10, width=0.0, color= 'gray', direction='in')\n",
    "ax.tick_params(axis='both', length=10, width=0.0, color= 'gray', direction='in')\n",
    "\n",
    "for i, bar in enumerate(bars):\n",
    "    bar.set_color(colors4[i])\n",
    "\n",
    "ax.title.set_text('F1 Score') \n",
    "plt.yticks( fontsize = 12)\n",
    "plt.xticks(rotation=90, fontsize = 12)\n",
    "plt.ylim([.80, 1])\n",
    "\n",
    "\n",
    "image_name = \"f1_score\"\n",
    "plt.savefig(image_name+ '.svg', format='svg', dpi=1200, bbox_inches='tight')\n",
    "plt.savefig(image_name+ '.png', format='png', dpi=1200, bbox_inches='tight')"
   ]
  },
  {
   "cell_type": "markdown",
   "metadata": {},
   "source": [
    "#### AUROC"
   ]
  },
  {
   "cell_type": "code",
   "execution_count": 14,
   "metadata": {},
   "outputs": [
    {
     "data": {
      "image/png": "[encoded data removed]",
      "text/plain": [
       "<Figure size 210x310 with 1 Axes>"
      ]
     },
     "metadata": {},
     "output_type": "display_data"
    }
   ],
   "source": [
    "import matplotlib.pyplot as plt\n",
    "import numpy as np\n",
    "\n",
    "font_size=12\n",
    "font = {'size'   : font_size}\n",
    "plt.rc('font', **font)\n",
    "# plt.rc('text', usetex=True)\n",
    "plt.rcParams['axes.linewidth'] = 1.50\n",
    "\n",
    "X_vals = np.array(model_auroc)*.01\n",
    "std_errors = np.array([ 0.32,  0.157, 0.221, 0.342, 0.221])*.01\n",
    "\n",
    "\n",
    "colors4 = ['#2ba77b', '#2274b2', '#e9a001', '#545253', '#d4580d']\n",
    "\n",
    "# Width of the bars\n",
    "bar_width = 0.6\n",
    "\n",
    "f, ax = plt.subplots(figsize=(2.1, 3.1), dpi = 100)\n",
    "\n",
    "bars = ax.bar(model_labels, X_vals, yerr=std_errors, align='center', alpha=0.5, \n",
    "              edgecolor='none', linewidth=0, error_kw={'elinewidth':.5}, width = bar_width, capsize=3)\n",
    "\n",
    "ax.tick_params(axis='both', length=10, width=0.0, color= 'gray', direction='in')\n",
    "ax.tick_params(axis='both', length=10, width=0.0, color= 'gray', direction='in')\n",
    "\n",
    "for i, bar in enumerate(bars):\n",
    "    bar.set_color(colors4[i])\n",
    "\n",
    "ax.title.set_text('AUROC') \n",
    "# plt.yticks( fontsize = 12)\n",
    "plt.xticks(rotation=90)\n",
    "plt.ylim([.80, 1.1])\n",
    "\n",
    "\n",
    "image_name = \"auroc\"\n",
    "plt.savefig(image_name+ '.svg', format='svg', dpi=1200, bbox_inches='tight')\n",
    "plt.savefig(image_name+ '.png', format='png', dpi=1200, bbox_inches='tight')"
   ]
  }
 ],
 "metadata": {
  "kernelspec": {
   "display_name": "tvsb",
   "language": "python",
   "name": "python3"
  },
  "language_info": {
   "codemirror_mode": {
    "name": "ipython",
    "version": 3
   },
   "file_extension": ".py",
   "mimetype": "text/x-python",
   "name": "python",
   "nbconvert_exporter": "python",
   "pygments_lexer": "ipython3",
   "version": "3.10.12"
  }
 },
 "nbformat": 4,
 "nbformat_minor": 2
}
