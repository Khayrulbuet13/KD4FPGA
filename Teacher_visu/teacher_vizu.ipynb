{
 "cells": [
  {
   "cell_type": "markdown",
   "metadata": {},
   "source": [
    "# Loading the model"
   ]
  },
  {
   "cell_type": "code",
   "execution_count": 1,
   "metadata": {},
   "outputs": [],
   "source": [
    "from LymphoMNIST.LymphoMNIST import LymphoMNIST\n",
    "from torchvision import transforms\n",
    "from torch.utils.data import DataLoader, WeightedRandomSampler, Dataset\n",
    "import torch\n"
   ]
  },
  {
   "cell_type": "code",
   "execution_count": 2,
   "metadata": {},
   "outputs": [],
   "source": [
    "# Dataset class to filter by labels\n",
    "class FilteredLymphoMNIST(Dataset):\n",
    "    def __init__(self, original_dataset, labels_to_keep):\n",
    "        self.original_dataset = original_dataset\n",
    "        self.labels_to_keep = labels_to_keep\n",
    "        self.label_map = {label: i for i, label in enumerate(labels_to_keep)}\n",
    "        self.indices = [i for i, (_, label) in enumerate(original_dataset) if label in labels_to_keep]\n",
    "\n",
    "    def __getitem__(self, index):\n",
    "        original_index = self.indices[index]\n",
    "        image, label = self.original_dataset[original_index]\n",
    "        return image, self.label_map[label.item()]\n",
    "\n",
    "    def __len__(self):\n",
    "        return len(self.indices)\n",
    "    \n",
    "# Function to get dataloaders\n",
    "def get_dataloaders(train_ds, val_ds, split=(0.5, 0.5), batch_size=64, sampler=None, *args, **kwargs):\n",
    "    lengths = [int(len(val_ds) * frac) for frac in split]\n",
    "    lengths[1] += len(val_ds) - sum(lengths)  # Correct split length sum\n",
    "    val_ds, test_ds = torch.utils.data.random_split(val_ds, lengths)\n",
    "\n",
    "    shuffle = False if sampler else True\n",
    "    train_dl = DataLoader(train_ds, batch_size=batch_size, shuffle=shuffle, sampler=sampler, *args, **kwargs)\n",
    "    val_dl = DataLoader(val_ds, batch_size=batch_size, shuffle=False, *args, **kwargs)\n",
    "    test_dl = DataLoader(test_ds, batch_size=batch_size, shuffle=False, *args, **kwargs)\n",
    "\n",
    "    return train_dl, val_dl, test_dl\n",
    "\n",
    "# Dataset and data augmentation classes\n",
    "class ConvertToRGB:\n",
    "    def __call__(self, tensor):\n",
    "        if tensor.shape[0] == 1:\n",
    "            tensor = tensor.repeat(3, 1, 1)\n",
    "        return tensor\n",
    "    \n",
    "# our hyperparameters\n",
    "params = {\n",
    "    'lr': 1e-5,\n",
    "    'batch_size': 16,\n",
    "    'epochs': 10000,\n",
    "    'model': \"Teacher_final-3c\",\n",
    "    'im_size': 120,\n",
    "}\n",
    "\n",
    "\n",
    "# Define transforms\n",
    "im_size = params['im_size']\n",
    "val_transform = transforms.Compose([\n",
    "    transforms.Resize((im_size, im_size)),\n",
    "    transforms.ToTensor(),\n",
    "    # transforms.Normalize([0.4819], [0.1484]),\n",
    "    ConvertToRGB()\n",
    "])\n"
   ]
  },
  {
   "cell_type": "code",
   "execution_count": 3,
   "metadata": {},
   "outputs": [
    {
     "name": "stdout",
     "output_type": "stream",
     "text": [
      "Dataset already exists. Skipping download.\n",
      "Dataset already exists. Skipping download.\n"
     ]
    }
   ],
   "source": [
    "\n",
    "# Initialize dataset\n",
    "original_train_ds = LymphoMNIST(root='../dataset', train=True, download=True, transform=val_transform, num_classes=3)\n",
    "original_test_ds = LymphoMNIST(root='../dataset', train=False, download=True, transform=val_transform, num_classes=3)\n",
    "\n",
    "\n",
    "# Specify labels to keep\n",
    "labels_to_keep = [0, 1] # 0: B, 1: T4, 2: T8\n",
    "\n",
    "# Initialize filtered dataset with labels to keep\n",
    "train_ds = FilteredLymphoMNIST(original_train_ds, labels_to_keep)\n",
    "test_ds= FilteredLymphoMNIST(original_test_ds, labels_to_keep)\n",
    "\n",
    "# weights = balanced_weights(train_ds, len(labels_to_keep))\n",
    "# sampler = WeightedRandomSampler(weights, len(weights))\n",
    "# Create the dataloaders\n",
    "train_dl, val_dl, test_dl = get_dataloaders(train_ds,\n",
    "                                            test_ds,\n",
    "                                            split=(0.5, 0.5),\n",
    "                                            batch_size=params['batch_size'],\n",
    "                                            # sampler=sampler,\n",
    "                                            num_workers=4\n",
    "                                           )"
   ]
  },
  {
   "cell_type": "code",
   "execution_count": 4,
   "metadata": {},
   "outputs": [],
   "source": [
    "import torch\n",
    "from torchvision import models\n",
    "from torch import nn\n",
    "\n",
    "def calculate_accuracy(loader, model, device):\n",
    "    model.eval()\n",
    "    correct = 0\n",
    "    total = 0\n",
    "    with torch.no_grad():\n",
    "        for images, labels in loader:\n",
    "            images, labels = images.to(device), labels.to(device)\n",
    "            outputs = model(images)\n",
    "            _, predicted = torch.max(outputs, 1)\n",
    "            total += labels.size(0)\n",
    "            correct += (predicted == labels).sum().item()\n",
    "\n",
    "    accuracy = 100 * correct / total\n",
    "    return accuracy\n",
    "\n",
    "\n",
    "\n",
    "device = 'cuda' if torch.cuda.is_available() else 'cpu'\n",
    "\n",
    "\n",
    "# Load the model\n",
    "model = models.resnet50()\n",
    "model.fc = nn.Linear(model.fc.in_features, len(labels_to_keep))\n",
    "\n",
    "# Load the saved weights and map them to the correct device\n",
    "# model.load_state_dict(torch.load(\"../checkpoint/Final_models/Teacher_imsize-120_30 September 22:37.pt\", map_location=device))\n",
    "model.load_state_dict(torch.load(\"../checkpoint/Teacher_imsize-no-normalize_20 October 22:45.pt\", map_location=device))\n",
    "\n",
    "model = model.to(device)\n"
   ]
  },
  {
   "cell_type": "code",
   "execution_count": 5,
   "metadata": {},
   "outputs": [],
   "source": [
    "def evaluate_model(model, dataloader, device):\n",
    "    y_pred = []\n",
    "    y_true = []\n",
    "\n",
    "    # Set model to evaluation mode\n",
    "    model.eval()\n",
    "\n",
    "    with torch.no_grad():\n",
    "        for image, target in dataloader:\n",
    "            image, target = image.to(device), target.to(device)\n",
    "            outputs = model(image)\n",
    "            output = (torch.max(outputs, 1)[1]).data.cpu().numpy()\n",
    "            y_pred.extend(output)  # Save Prediction\n",
    "            target = target.data.cpu().numpy()\n",
    "            y_true.extend(target)  # Save target\n",
    "\n",
    "    return y_true, y_pred"
   ]
  },
  {
   "cell_type": "code",
   "execution_count": null,
   "metadata": {},
   "outputs": [],
   "source": [
    "from torchsummary import summary\n",
    "summary(model, (3, 120, 120))"
   ]
  },
  {
   "cell_type": "code",
   "execution_count": 7,
   "metadata": {},
   "outputs": [
    {
     "name": "stdout",
     "output_type": "stream",
     "text": [
      "Train Accuracy: 99.82%\n"
     ]
    }
   ],
   "source": [
    "# Calculate and print accuracies\n",
    "train_acc = calculate_accuracy(train_dl, model, device)\n",
    "print(f'Train Accuracy: {train_acc:.2f}%')\n",
    "\n"
   ]
  },
  {
   "cell_type": "code",
   "execution_count": 6,
   "metadata": {},
   "outputs": [
    {
     "name": "stdout",
     "output_type": "stream",
     "text": [
      "Validation Accuracy: 97.86%\n"
     ]
    }
   ],
   "source": [
    "val_acc = calculate_accuracy(val_dl, model, device)\n",
    "print(f'Validation Accuracy: {val_acc:.2f}%')\n",
    "\n"
   ]
  },
  {
   "cell_type": "code",
   "execution_count": 8,
   "metadata": {},
   "outputs": [
    {
     "name": "stdout",
     "output_type": "stream",
     "text": [
      "Test Accuracy: 97.98%\n"
     ]
    }
   ],
   "source": [
    "test_acc = calculate_accuracy(test_dl, model, device)\n",
    "print(f'Test Accuracy: {test_acc:.2f}%')"
   ]
  }
 ],
 "metadata": {
  "kernelspec": {
   "display_name": "tvsb",
   "language": "python",
   "name": "python3"
  },
  "language_info": {
   "codemirror_mode": {
    "name": "ipython",
    "version": 3
   },
   "file_extension": ".py",
   "mimetype": "text/x-python",
   "name": "python",
   "nbconvert_exporter": "python",
   "pygments_lexer": "ipython3",
   "version": "3.10.12"
  }
 },
 "nbformat": 4,
 "nbformat_minor": 2
}
