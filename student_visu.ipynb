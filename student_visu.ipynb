{
 "cells": [
  {
   "cell_type": "code",
   "execution_count": 1,
   "metadata": {},
   "outputs": [
    {
     "name": "stderr",
     "output_type": "stream",
     "text": [
      "/home/mdi220/.virtualenvs/tvsb/lib/python3.10/site-packages/tqdm/auto.py:21: TqdmWarning: IProgress not found. Please update jupyter and ipywidgets. See https://ipywidgets.readthedocs.io/en/stable/user_install.html\n",
      "  from .autonotebook import tqdm as notebook_tqdm\n"
     ]
    }
   ],
   "source": [
    "import torch\n",
    "from torchvision import models\n",
    "from torch import nn\n",
    "from torch.utils.data import DataLoader\n",
    "from LymphoMNIST.LymphoMNIST import LymphoMNIST\n",
    "from torchvision import transforms\n",
    "from student_qt import FilteredLymphoMNIST, get_dataloaders  "
   ]
  },
  {
   "cell_type": "code",
   "execution_count": 2,
   "metadata": {},
   "outputs": [],
   "source": [
    "\n",
    "# Hyperparameters\n",
    "params = {\n",
    "    'batch_size': 16,\n",
    "    'im_size': 64,  # Resize dimension used during training\n",
    "    'model_checkpoint': \"checkpoint/Final_models/KD_13 October 00:13_resnet50_qt-1channel-imsize-120-48.pt\"  # Path to the saved model\n",
    "}\n",
    "\n",
    "BIGGER = 64\n",
    "\n",
    "import torchvision.transforms as T\n",
    "transform_student = T.Compose([\n",
    "    T.Resize((BIGGER, BIGGER)),\n",
    "    T.ToTensor(),\n",
    "    T.Normalize([0.4819], [0.1484]),\n",
    "])"
   ]
  },
  {
   "cell_type": "code",
   "execution_count": 3,
   "metadata": {},
   "outputs": [
    {
     "name": "stdout",
     "output_type": "stream",
     "text": [
      "Dataset already exists. Skipping download.\n",
      "Dataset already exists. Skipping download.\n"
     ]
    }
   ],
   "source": [
    "\n",
    "\n",
    "# Initialize datasets\n",
    "labels_to_keep = [0, 1]\n",
    "original_train_ds = LymphoMNIST(root='./dataset', train=True, download=True, transform=transform_student, num_classes=3)\n",
    "original_test_ds = LymphoMNIST(root='./dataset', train=False, download=True, transform=transform_student, num_classes=3)\n",
    "\n",
    "# Filter datasets\n",
    "train_ds = FilteredLymphoMNIST(original_train_ds, labels_to_keep)\n",
    "test_ds = FilteredLymphoMNIST(original_test_ds, labels_to_keep)\n",
    "\n",
    "# Get dataloaders\n",
    "train_dl, val_dl, test_dl = get_dataloaders(train_ds, test_ds, batch_size=params['batch_size'], num_workers=4)"
   ]
  },
  {
   "cell_type": "markdown",
   "metadata": {},
   "source": [
    "# Resnet18"
   ]
  },
  {
   "cell_type": "code",
   "execution_count": 8,
   "metadata": {},
   "outputs": [],
   "source": [
    "# Load model\n",
    "device = 'cuda' if torch.cuda.is_available() else 'cpu'\n",
    "model = models.resnet18()\n",
    "model.conv1 = nn.Conv2d(1, model.conv1.out_channels, kernel_size=model.conv1.kernel_size, stride=model.conv1.stride, padding=model.conv1.padding, bias=False)\n",
    "model.fc = nn.Linear(model.fc.in_features, len(labels_to_keep))\n",
    "\n",
    "# Load saved weights\n",
    "# model.load_state_dict(torch.load('checkpoint/KD_10 October 16:37_resnet50_resnet18-1channel-timm.pt', map_location=device))\n",
    "model.load_state_dict(torch.load('checkpoint/Final_models/KD_10 October 16:40_resnet50_resnet18-1channel-worked.pt', map_location=device))\n",
    "model = model.to(device)\n",
    "\n",
    "# Function to calculate accuracy\n",
    "def calculate_accuracy(loader, model, device):\n",
    "    model.eval()\n",
    "    correct = 0\n",
    "    total = 0\n",
    "    with torch.no_grad():\n",
    "        for images, labels in loader:\n",
    "            images, labels = images.to(device), labels.to(device)\n",
    "            outputs = model(images)\n",
    "            _, predicted = torch.max(outputs, 1)\n",
    "            total += labels.size(0)\n",
    "            correct += (predicted == labels).sum().item()\n",
    "\n",
    "    accuracy = 100 * correct / total\n",
    "    return accuracy"
   ]
  },
  {
   "cell_type": "code",
   "execution_count": 9,
   "metadata": {},
   "outputs": [
    {
     "name": "stdout",
     "output_type": "stream",
     "text": [
      "Train Accuracy: 100.00%\n"
     ]
    }
   ],
   "source": [
    "# Calculate and print accuracies\n",
    "train_acc = calculate_accuracy(train_dl, model, device)\n",
    "print(f'Train Accuracy: {train_acc:.2f}%')\n",
    "\n"
   ]
  },
  {
   "cell_type": "code",
   "execution_count": 10,
   "metadata": {},
   "outputs": [
    {
     "name": "stdout",
     "output_type": "stream",
     "text": [
      "Validation Accuracy: 94.04%\n"
     ]
    }
   ],
   "source": [
    "val_acc = calculate_accuracy(val_dl, model, device)\n",
    "print(f'Validation Accuracy: {val_acc:.2f}%')"
   ]
  },
  {
   "cell_type": "code",
   "execution_count": 11,
   "metadata": {},
   "outputs": [
    {
     "name": "stdout",
     "output_type": "stream",
     "text": [
      "Test Accuracy: 94.16%\n"
     ]
    },
    {
     "ename": "",
     "evalue": "",
     "output_type": "error",
     "traceback": [
      "\u001b[1;31mThe Kernel crashed while executing code in the current cell or a previous cell. \n",
      "\u001b[1;31mPlease review the code in the cell(s) to identify a possible cause of the failure. \n",
      "\u001b[1;31mClick <a href='https://aka.ms/vscodeJupyterKernelCrash'>here</a> for more info. \n",
      "\u001b[1;31mView Jupyter <a href='command:jupyter.viewOutput'>log</a> for further details."
     ]
    }
   ],
   "source": [
    "test_acc = calculate_accuracy(test_dl, model, device)\n",
    "print(f'Test Accuracy: {test_acc:.2f}%')"
   ]
  },
  {
   "cell_type": "markdown",
   "metadata": {},
   "source": [
    "## Inference time"
   ]
  },
  {
   "cell_type": "code",
   "execution_count": 17,
   "metadata": {},
   "outputs": [],
   "source": [
    "import time\n",
    "\n",
    "# Hyperparameters\n",
    "params = {\n",
    "    'batch_size': 16,  # Standard batch size\n",
    "    'im_size': 64,     # Resize dimension used during training\n",
    "    'num_warmup_batches': 5,  # Number of warmup batches\n",
    "    'num_batches': 100,  # Number of batches to measure (should cover 1000 images)\n",
    "}"
   ]
  },
  {
   "cell_type": "code",
   "execution_count": null,
   "metadata": {},
   "outputs": [],
   "source": [
    "\n",
    "\n",
    "# Function to calculate inference speed\n",
    "def calculate_inference_speed(loader, model, device, num_batches, warmup_batches):\n",
    "    model.eval()\n",
    "    total_time = 0.0\n",
    "    images_processed = 0\n",
    "    \n",
    "    # Warm-up loop\n",
    "    with torch.no_grad():\n",
    "        for i, (images, _) in enumerate(loader):\n",
    "            if i >= warmup_batches:\n",
    "                break\n",
    "            images = images.to(device)\n",
    "            _ = model(images)\n",
    "\n",
    "    # Timed inference loop\n",
    "    with torch.no_grad():\n",
    "        for i, (images, _) in enumerate(loader):\n",
    "            if i >= num_batches:\n",
    "                break\n",
    "            images = images.to(device)\n",
    "\n",
    "            start_time = time.time()  # Start timing\n",
    "            _ = model(images)\n",
    "            end_time = time.time()  # End timing\n",
    "\n",
    "            # Update total time and images processed\n",
    "            total_time += (end_time - start_time)\n",
    "            images_processed += images.size(0)\n",
    "\n",
    "    avg_inference_time_per_image = total_time / images_processed\n",
    "    images_per_second = 1.0 / avg_inference_time_per_image\n",
    "    return avg_inference_time_per_image, images_per_second\n",
    "\n",
    "# Calculate inference speed for 100 batches (or until 1000 images)\n",
    "avg_time, throughput = calculate_inference_speed(test_dl, model, device, params['num_batches'], params['num_warmup_batches'])\n",
    "\n",
    "print(f'Average Inference Time per Image: {avg_time:.6f} seconds')\n",
    "print(f'Inference Speed: {throughput:.2f} images/second')\n"
   ]
  },
  {
   "cell_type": "code",
   "execution_count": null,
   "metadata": {},
   "outputs": [],
   "source": [
    "\n",
    "import numpy as np\n",
    "# Function to calculate inference speed\n",
    "def calculate_inference_speed(loader, model, device, num_batches, warmup_batches):\n",
    "    model.eval()\n",
    "    total_time = 0.0\n",
    "    images_processed = 0\n",
    "    \n",
    "    # Warm-up loop\n",
    "    with torch.no_grad():\n",
    "        for i, (images, _) in enumerate(loader):\n",
    "            if i >= warmup_batches:\n",
    "                break\n",
    "            images = images.to(device)\n",
    "            _ = model(images)\n",
    "\n",
    "    # Timed inference loop\n",
    "    with torch.no_grad():\n",
    "        for i, (images, _) in enumerate(loader):\n",
    "            if i >= num_batches:\n",
    "                break\n",
    "            images = images.to(device)\n",
    "\n",
    "            start_time = time.time()  # Start timing\n",
    "            _ = model(images)\n",
    "            end_time = time.time()  # End timing\n",
    "\n",
    "            # Update total time and images processed\n",
    "            total_time += (end_time - start_time)\n",
    "            images_processed += images.size(0)\n",
    "\n",
    "    avg_inference_time_per_image = total_time / images_processed\n",
    "    images_per_second = 1.0 / avg_inference_time_per_image\n",
    "    return avg_inference_time_per_image, images_per_second\n",
    "\n",
    "# Run the inference test for 50 iterations and collect the results\n",
    "inference_times = []\n",
    "inference_speeds = []\n",
    "\n",
    "for _ in range(50):\n",
    "    avg_time, throughput = calculate_inference_speed(test_dl, model, device, params['num_batches'], params['num_warmup_batches'])\n",
    "    inference_times.append(avg_time)\n",
    "    inference_speeds.append(throughput)\n",
    "\n",
    "# Calculate the average and standard deviation of inference times and speeds\n",
    "mean_time = np.mean(inference_times)\n",
    "std_time = np.std(inference_times)\n",
    "mean_speed = np.mean(inference_speeds)\n",
    "std_speed = np.std(inference_speeds)\n",
    "\n",
    "print(f'Average Inference Time per Image (over 50 runs): {mean_time:.6f} seconds ± {std_time:.6f}')\n",
    "print(f'Average Inference Speed (over 50 runs): {mean_speed:.2f} images/second ± {std_speed:.2f}')"
   ]
  },
  {
   "cell_type": "markdown",
   "metadata": {},
   "source": [
    "# Tiny model"
   ]
  },
  {
   "cell_type": "code",
   "execution_count": 5,
   "metadata": {},
   "outputs": [],
   "source": [
    "# Load model\n",
    "device = 'cuda' if torch.cuda.is_available() else 'cpu'\n",
    "\n",
    "class QuantizedCNN(nn.Module):\n",
    "    def __init__(self, num_classes=2, input_size=(1, 28, 28)):\n",
    "        super(QuantizedCNN, self).__init__()\n",
    "        self.num_classes = num_classes\n",
    "        self.features = nn.Sequential(\n",
    "            nn.Conv2d(1, 16, kernel_size=3, stride=1, padding=0),\n",
    "            nn.ReLU(),\n",
    "            nn.MaxPool2d(kernel_size=2, stride=2, padding=0),\n",
    "            nn.Conv2d(16, 16, kernel_size=3, stride=1, padding=0),\n",
    "            nn.ReLU(),\n",
    "            nn.MaxPool2d(kernel_size=2, stride=2, padding=0)\n",
    "        )\n",
    "        with torch.no_grad():\n",
    "            dummy_input = torch.zeros(1, *input_size)\n",
    "            dummy_output = self.features(dummy_input)\n",
    "            num_ftrs = dummy_output.numel() // dummy_output.size(0)\n",
    "        self.classifier = nn.Sequential(\n",
    "            nn.Flatten(),\n",
    "            nn.Dropout(0.5),\n",
    "            nn.Linear(num_ftrs, num_classes),\n",
    "            nn.Softmax(dim=1)\n",
    "        )\n",
    "    def forward(self, x):\n",
    "        x = self.features(x)\n",
    "        x = self.classifier(x)\n",
    "        return x\n",
    "    \n",
    "    \n",
    "# Load saved weights\n",
    "model = QuantizedCNN(num_classes=2, input_size=(1, BIGGER, BIGGER)).to(device)\n",
    "\n",
    "# model.load_state_dict(torch.load('checkpoint/KD_10 October 16:38_resnet50_qt-1channel-worked.pt', map_location=device))\n",
    "model.load_state_dict(torch.load(params['model_checkpoint'], map_location=device))\n",
    "\n",
    "model = model.to(device)\n",
    "\n",
    "# Function to calculate accuracy\n",
    "def calculate_accuracy(loader, model, device):\n",
    "    model.eval()\n",
    "    correct = 0\n",
    "    total = 0\n",
    "    with torch.no_grad():\n",
    "        for images, labels in loader:\n",
    "            images, labels = images.to(device), labels.to(device)\n",
    "            outputs = model(images)\n",
    "            _, predicted = torch.max(outputs, 1)\n",
    "            total += labels.size(0)\n",
    "            correct += (predicted == labels).sum().item()\n",
    "\n",
    "    accuracy = 100 * correct / total\n",
    "    return accuracy"
   ]
  },
  {
   "cell_type": "code",
   "execution_count": null,
   "metadata": {},
   "outputs": [],
   "source": [
    "from torchsummary import summary\n",
    "summary(model, (1, 48, 48))"
   ]
  },
  {
   "cell_type": "code",
   "execution_count": null,
   "metadata": {},
   "outputs": [],
   "source": [
    "# Calculate and print accuracies\n",
    "train_acc = calculate_accuracy(train_dl, model, device)\n",
    "print(f'Train Accuracy: {train_acc:.2f}%')\n"
   ]
  },
  {
   "cell_type": "code",
   "execution_count": null,
   "metadata": {},
   "outputs": [],
   "source": [
    "\n",
    "val_acc = calculate_accuracy(val_dl, model, device)\n",
    "print(f'Validation Accuracy: {val_acc:.2f}%')\n",
    "\n"
   ]
  },
  {
   "cell_type": "code",
   "execution_count": null,
   "metadata": {},
   "outputs": [],
   "source": [
    "test_acc = calculate_accuracy(test_dl, model, device)\n",
    "print(f'Test Accuracy: {test_acc:.2f}%')"
   ]
  },
  {
   "cell_type": "markdown",
   "metadata": {},
   "source": [
    "## Inference time"
   ]
  },
  {
   "cell_type": "code",
   "execution_count": 23,
   "metadata": {},
   "outputs": [],
   "source": [
    "import time\n",
    "\n",
    "# Hyperparameters\n",
    "params = {\n",
    "    'batch_size': 16,  # Standard batch size\n",
    "    'im_size': 64,     # Resize dimension used during training\n",
    "    'num_warmup_batches': 5,  # Number of warmup batches\n",
    "    'num_batches': 100,  # Number of batches to measure (should cover 1000 images)\n",
    "    'model_checkpoint': \"checkpoint/KD_30 September 22:37_resnet50_resnet18-1channel-worked.pt\"\n",
    "}"
   ]
  },
  {
   "cell_type": "code",
   "execution_count": null,
   "metadata": {},
   "outputs": [],
   "source": [
    "\n",
    "import numpy as np\n",
    "# Function to calculate inference speed\n",
    "def calculate_inference_speed(loader, model, device, num_batches, warmup_batches):\n",
    "    model.eval()\n",
    "    total_time = 0.0\n",
    "    images_processed = 0\n",
    "    \n",
    "    # Warm-up loop\n",
    "    with torch.no_grad():\n",
    "        for i, (images, _) in enumerate(loader):\n",
    "            if i >= warmup_batches:\n",
    "                break\n",
    "            images = images.to(device)\n",
    "            _ = model(images)\n",
    "\n",
    "    # Timed inference loop\n",
    "    with torch.no_grad():\n",
    "        for i, (images, _) in enumerate(loader):\n",
    "            if i >= num_batches:\n",
    "                break\n",
    "            images = images.to(device)\n",
    "\n",
    "            start_time = time.time()  # Start timing\n",
    "            _ = model(images)\n",
    "            end_time = time.time()  # End timing\n",
    "\n",
    "            # Update total time and images processed\n",
    "            total_time += (end_time - start_time)\n",
    "            images_processed += images.size(0)\n",
    "\n",
    "    avg_inference_time_per_image = total_time / images_processed\n",
    "    images_per_second = 1.0 / avg_inference_time_per_image\n",
    "    return avg_inference_time_per_image, images_per_second\n",
    "\n",
    "# Run the inference test for 50 iterations and collect the results\n",
    "inference_times = []\n",
    "inference_speeds = []\n",
    "\n",
    "for _ in range(50):\n",
    "    avg_time, throughput = calculate_inference_speed(test_dl, model, device, params['num_batches'], params['num_warmup_batches'])\n",
    "    inference_times.append(avg_time)\n",
    "    inference_speeds.append(throughput)\n",
    "\n",
    "# Calculate the average and standard deviation of inference times and speeds\n",
    "mean_time = np.mean(inference_times)\n",
    "std_time = np.std(inference_times)\n",
    "mean_speed = np.mean(inference_speeds)\n",
    "std_speed = np.std(inference_speeds)\n",
    "\n",
    "print(f'Average Inference Time per Image (over 50 runs): {mean_time:.6f} seconds ± {std_time:.6f}')\n",
    "print(f'Average Inference Speed (over 50 runs): {mean_speed:.2f} images/second ± {std_speed:.2f}')"
   ]
  }
 ],
 "metadata": {
  "kernelspec": {
   "display_name": "tvsb",
   "language": "python",
   "name": "python3"
  },
  "language_info": {
   "codemirror_mode": {
    "name": "ipython",
    "version": 3
   },
   "file_extension": ".py",
   "mimetype": "text/x-python",
   "name": "python",
   "nbconvert_exporter": "python",
   "pygments_lexer": "ipython3",
   "version": "3.10.12"
  }
 },
 "nbformat": 4,
 "nbformat_minor": 2
}
