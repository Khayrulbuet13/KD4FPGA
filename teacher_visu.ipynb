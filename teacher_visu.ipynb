{
 "cells": [
  {
   "cell_type": "markdown",
   "metadata": {},
   "source": [
    "# check Techaer accuracy: 3C"
   ]
  },
  {
   "cell_type": "code",
   "execution_count": 1,
   "metadata": {},
   "outputs": [
    {
     "name": "stdout",
     "output_type": "stream",
     "text": [
      "LymphoMNIST v0.0.1 @ https://github.com/Khayrulbuet13/Lympho3-MNIST.git\n"
     ]
    }
   ],
   "source": [
    "from good_tacher_resnet50 import val_transform, FilteredLymphoMNIST, get_dataloaders\n",
    "from good_tacher_resnet50 import WeightedRandomSampler, balanced_weights\n",
    "from LymphoMNIST.LymphoMNIST import LymphoMNIST"
   ]
  },
  {
   "cell_type": "code",
   "execution_count": 2,
   "metadata": {},
   "outputs": [],
   "source": [
    "# our hyperparameters\n",
    "params = {\n",
    "    'lr': 1e-5,\n",
    "    'batch_size': 16,\n",
    "    'epochs': 10000,\n",
    "    'model': \"Teacher_final-1c\"\n",
    "}\n"
   ]
  },
  {
   "cell_type": "code",
   "execution_count": 3,
   "metadata": {},
   "outputs": [
    {
     "name": "stdout",
     "output_type": "stream",
     "text": [
      "Dataset already exists. Skipping download.\n",
      "Dataset already exists. Skipping download.\n"
     ]
    }
   ],
   "source": [
    "\n",
    "# Initialize dataset\n",
    "original_train_ds = LymphoMNIST(root='./dataset', train=True, download=True, transform=val_transform, num_classes=3)\n",
    "original_test_ds = LymphoMNIST(root='./dataset', train=False, download=True, transform=val_transform, num_classes=3)\n",
    "\n",
    "\n",
    "# Specify labels to keep\n",
    "labels_to_keep = [0, 1] # 0: B, 1: T4, 2: T8\n",
    "\n",
    "# Initialize filtered dataset with labels to keep\n",
    "train_ds = FilteredLymphoMNIST(original_train_ds, labels_to_keep)\n",
    "test_ds= FilteredLymphoMNIST(original_test_ds, labels_to_keep)\n",
    "\n",
    "weights = balanced_weights(train_ds, len(labels_to_keep))\n",
    "sampler = WeightedRandomSampler(weights, len(weights))\n",
    "# Create the dataloaders\n",
    "train_dl, val_dl, test_dl = get_dataloaders(train_ds,\n",
    "                                            test_ds,\n",
    "                                            split=(0.5, 0.5),\n",
    "                                            batch_size=params['batch_size'],\n",
    "                                            sampler=sampler,\n",
    "                                            num_workers=4\n",
    "                                           )"
   ]
  },
  {
   "cell_type": "code",
   "execution_count": 4,
   "metadata": {},
   "outputs": [],
   "source": [
    "import torch\n",
    "from torchvision import models\n",
    "from torch import nn\n",
    "\n",
    "def calculate_accuracy(loader, model, device):\n",
    "    model.eval()\n",
    "    correct = 0\n",
    "    total = 0\n",
    "    with torch.no_grad():\n",
    "        for images, labels in loader:\n",
    "            images, labels = images.to(device), labels.to(device)\n",
    "            outputs = model(images)\n",
    "            _, predicted = torch.max(outputs, 1)\n",
    "            total += labels.size(0)\n",
    "            correct += (predicted == labels).sum().item()\n",
    "\n",
    "    accuracy = 100 * correct / total\n",
    "    return accuracy\n",
    "\n",
    "\n",
    "\n",
    "device = 'cuda' if torch.cuda.is_available() else 'cpu'\n",
    "\n",
    "# Load the model\n",
    "model = models.resnet50()\n",
    "model.fc = nn.Linear(model.fc.in_features, len(labels_to_keep))\n",
    "\n",
    "# Load the saved weights\n",
    "model.load_state_dict(torch.load(\"checkpoint/Final_models/28 September 02:53_Teacher_final-control_final_weights.pt\"))\n",
    "model = model.to(device)\n"
   ]
  },
  {
   "cell_type": "code",
   "execution_count": 5,
   "metadata": {},
   "outputs": [
    {
     "name": "stdout",
     "output_type": "stream",
     "text": [
      "Test Accuracy: 97.14%\n"
     ]
    }
   ],
   "source": [
    "test_acc = calculate_accuracy(test_dl, model, device)\n",
    "print(f'Test Accuracy: {test_acc:.2f}%')\n"
   ]
  },
  {
   "cell_type": "code",
   "execution_count": 6,
   "metadata": {},
   "outputs": [
    {
     "name": "stdout",
     "output_type": "stream",
     "text": [
      "Test Accuracy: 99.30%\n"
     ]
    }
   ],
   "source": [
    "test_acc = calculate_accuracy(train_dl, model, device)\n",
    "print(f'Test Accuracy: {test_acc:.2f}%')\n"
   ]
  },
  {
   "cell_type": "code",
   "execution_count": 7,
   "metadata": {},
   "outputs": [
    {
     "name": "stdout",
     "output_type": "stream",
     "text": [
      "Test Accuracy: 97.55%\n"
     ]
    }
   ],
   "source": [
    "test_acc = calculate_accuracy(val_dl, model, device)\n",
    "print(f'Test Accuracy: {test_acc:.2f}%')"
   ]
  },
  {
   "cell_type": "markdown",
   "metadata": {},
   "source": [
    "# check Techaer accuracy: 1C"
   ]
  },
  {
   "cell_type": "code",
   "execution_count": null,
   "metadata": {},
   "outputs": [],
   "source": [
    "from good_tacher_resnet50 import val_transform, FilteredLymphoMNIST, get_dataloaders\n",
    "from good_tacher_resnet50 import WeightedRandomSampler, balanced_weights\n",
    "from LymphoMNIST.LymphoMNIST import LymphoMNIST"
   ]
  },
  {
   "cell_type": "code",
   "execution_count": null,
   "metadata": {},
   "outputs": [],
   "source": [
    "# our hyperparameters\n",
    "params = {\n",
    "    'lr': 1e-5,\n",
    "    'batch_size': 16,\n",
    "    'epochs': 10000,\n",
    "    'model': \"Teacher_final-1c\"\n",
    "}"
   ]
  },
  {
   "cell_type": "code",
   "execution_count": null,
   "metadata": {},
   "outputs": [],
   "source": [
    "\n",
    "# Initialize dataset\n",
    "original_train_ds = LymphoMNIST(root='./dataset', train=True, download=True, transform=val_transform, num_classes=3)\n",
    "original_test_ds = LymphoMNIST(root='./dataset', train=False, download=True, transform=val_transform, num_classes=3)\n",
    "\n",
    "\n",
    "# Specify labels to keep\n",
    "labels_to_keep = [0, 1] # 0: B, 1: T4, 2: T8\n",
    "\n",
    "# Initialize filtered dataset with labels to keep\n",
    "train_ds = FilteredLymphoMNIST(original_train_ds, labels_to_keep)\n",
    "test_ds= FilteredLymphoMNIST(original_test_ds, labels_to_keep)\n",
    "\n",
    "weights = balanced_weights(train_ds, len(labels_to_keep))\n",
    "sampler = WeightedRandomSampler(weights, len(weights))\n",
    "# Create the dataloaders\n",
    "train_dl, val_dl, test_dl = get_dataloaders(train_ds,\n",
    "                                            test_ds,\n",
    "                                            split=(0.5, 0.5),\n",
    "                                            batch_size=params['batch_size'],\n",
    "                                            sampler=sampler,\n",
    "                                            num_workers=4\n",
    "                                           )"
   ]
  },
  {
   "cell_type": "code",
   "execution_count": null,
   "metadata": {},
   "outputs": [],
   "source": [
    "import torch\n",
    "from torchvision import models\n",
    "from torch import nn\n",
    "\n",
    "def calculate_accuracy(loader, model, device):\n",
    "    model.eval()\n",
    "    correct = 0\n",
    "    total = 0\n",
    "    with torch.no_grad():\n",
    "        for images, labels in loader:\n",
    "            images, labels = images.to(device), labels.to(device)\n",
    "            outputs = model(images)\n",
    "            _, predicted = torch.max(outputs, 1)\n",
    "            total += labels.size(0)\n",
    "            correct += (predicted == labels).sum().item()\n",
    "\n",
    "    accuracy = 100 * correct / total\n",
    "    return accuracy\n",
    "\n",
    "\n",
    "\n",
    "device = 'cuda' if torch.cuda.is_available() else 'cpu'\n",
    "\n",
    "# Load pre-trained ResNet50 model\n",
    "model = models.resnet50(weights=None)\n",
    "num_ftrs = model.fc.in_features\n",
    "num_classes = len(labels_to_keep)\n",
    "model.fc = nn.Linear(num_ftrs, num_classes)\n",
    "\n",
    "# Load the saved weights\n",
    "model.load_state_dict(torch.load(\"checkpoint/Final_models/28 September 02:53_Teacher_final-control_final_weights.pt\"))\n",
    "model = model.to(device)\n"
   ]
  },
  {
   "cell_type": "code",
   "execution_count": null,
   "metadata": {},
   "outputs": [],
   "source": [
    "test_acc = calculate_accuracy(test_dl, model, device)\n",
    "print(f'Test Accuracy: {test_acc:.2f}%')\n"
   ]
  },
  {
   "cell_type": "code",
   "execution_count": null,
   "metadata": {},
   "outputs": [],
   "source": [
    "test_acc = calculate_accuracy(train_dl, model, device)\n",
    "print(f'Test Accuracy: {test_acc:.2f}%')\n"
   ]
  },
  {
   "cell_type": "code",
   "execution_count": null,
   "metadata": {},
   "outputs": [],
   "source": [
    "test_acc = calculate_accuracy(val_dl, model, device)\n",
    "print(f'Test Accuracy: {test_acc:.2f}%')"
   ]
  },
  {
   "cell_type": "markdown",
   "metadata": {},
   "source": [
    "# check Student accuracy: qt"
   ]
  },
  {
   "cell_type": "code",
   "execution_count": 1,
   "metadata": {},
   "outputs": [],
   "source": [
    "from student_qt import transform_student, FilteredLymphoMNIST, get_dataloaders\n",
    "# from student_qt import WeightedRandomSampler, balanced_weights\n",
    "from LymphoMNIST.LymphoMNIST import LymphoMNIST"
   ]
  },
  {
   "cell_type": "code",
   "execution_count": 4,
   "metadata": {},
   "outputs": [],
   "source": [
    "# our hyperparameters\n",
    "EPOCHS = 100000\n",
    "TEMPERATURE = 1\n",
    "INIT_LR = 0.001\n",
    "WEIGHT_DECAY = .0001\n",
    "CLIP_THRESHOLD = 1.0\n",
    "ALPHA = 1\n",
    "BATCH_SIZE = 64\n",
    "RESIZE = 64\n",
    "BIGGER = 64\n",
    "MODEL = 'resnet50_qt-1channel'"
   ]
  },
  {
   "cell_type": "code",
   "execution_count": 2,
   "metadata": {},
   "outputs": [
    {
     "name": "stdout",
     "output_type": "stream",
     "text": [
      "Dataset already exists. Skipping download.\n",
      "Dataset already exists. Skipping download.\n"
     ]
    }
   ],
   "source": [
    "\n",
    "\n",
    "\n",
    "# Specify labels to keep\n",
    "labels_to_keep = [0, 1] # 0: B, 1: T4, 2: T8\n",
    "\n",
    "# Initialize dataset\n",
    "train_ds_student = FilteredLymphoMNIST(\n",
    "        LymphoMNIST(root='./dataset', train=True, download=True, transform=transform_student, num_classes=3), labels_to_keep)\n",
    "val_test_ds_student = FilteredLymphoMNIST(\n",
    "        LymphoMNIST(root='./dataset', train=False, download=True, transform=transform_student, num_classes=3), labels_to_keep)\n",
    "\n",
    "\n",
    "# Initialize filtered dataset with labels to keep\n",
    "train_ds = FilteredLymphoMNIST(train_ds_student, labels_to_keep)\n",
    "test_ds= FilteredLymphoMNIST(val_test_ds_student, labels_to_keep)\n",
    "\n",
    "# Create the dataloaders\n",
    "train_dl, val_dl, test_dl = get_dataloaders(train_ds_student, val_test_ds_student, num_workers=4)\n"
   ]
  },
  {
   "cell_type": "code",
   "execution_count": 5,
   "metadata": {},
   "outputs": [],
   "source": [
    "import torch\n",
    "from torchvision import models\n",
    "from torch import nn\n",
    "\n",
    "def calculate_accuracy(loader, model, device):\n",
    "    model.eval()\n",
    "    correct = 0\n",
    "    total = 0\n",
    "    with torch.no_grad():\n",
    "        for images, labels in loader:\n",
    "            images, labels = images.to(device), labels.to(device)\n",
    "            outputs = model(images)\n",
    "            _, predicted = torch.max(outputs, 1)\n",
    "            total += labels.size(0)\n",
    "            correct += (predicted == labels).sum().item()\n",
    "\n",
    "    accuracy = 100 * correct / total\n",
    "    return accuracy\n",
    "\n",
    "\n",
    "\n",
    "device = 'cuda' if torch.cuda.is_available() else 'cpu'\n",
    "\n",
    "# Load pre-trained ResNet50 model\n",
    "class QuantizedCNN(nn.Module):\n",
    "    def __init__(self, num_classes=2, input_size=(1, 28, 28)):\n",
    "        super(QuantizedCNN, self).__init__()\n",
    "        self.num_classes = num_classes\n",
    "        self.features = nn.Sequential(\n",
    "            nn.Conv2d(1, 16, kernel_size=3, stride=1, padding=0),\n",
    "            nn.ReLU(),\n",
    "            nn.MaxPool2d(kernel_size=2, stride=2, padding=0),\n",
    "            nn.Conv2d(16, 16, kernel_size=3, stride=1, padding=0),\n",
    "            nn.ReLU(),\n",
    "            nn.MaxPool2d(kernel_size=2, stride=2, padding=0)\n",
    "        )\n",
    "        with torch.no_grad():\n",
    "            dummy_input = torch.zeros(1, *input_size)\n",
    "            dummy_output = self.features(dummy_input)\n",
    "            num_ftrs = dummy_output.numel() // dummy_output.size(0)\n",
    "        self.classifier = nn.Sequential(\n",
    "            nn.Flatten(),\n",
    "            nn.Dropout(0.5),\n",
    "            nn.Linear(num_ftrs, num_classes),\n",
    "            nn.Softmax(dim=1)\n",
    "        )\n",
    "    def forward(self, x):\n",
    "        x = self.features(x)\n",
    "        x = self.classifier(x)\n",
    "        return x\n",
    "    \n",
    "    \n",
    "num_classes = len(labels_to_keep)\n",
    "model = QuantizedCNN(num_classes=num_classes, input_size=(1, BIGGER, BIGGER)).to(device)\n",
    "\n",
    "# Load the saved weights\n",
    "model.load_state_dict(torch.load(\"checkpoint/Final_models/KD_30 September 13:05_resnet50_qt-1channel.pt\"))\n",
    "model = model.to(device)\n"
   ]
  },
  {
   "cell_type": "code",
   "execution_count": 6,
   "metadata": {},
   "outputs": [
    {
     "name": "stdout",
     "output_type": "stream",
     "text": [
      "Test Accuracy: 90.71%\n"
     ]
    }
   ],
   "source": [
    "test_acc = calculate_accuracy(test_dl, model, device)\n",
    "print(f'Test Accuracy: {test_acc:.2f}%')\n"
   ]
  },
  {
   "cell_type": "code",
   "execution_count": 9,
   "metadata": {},
   "outputs": [
    {
     "name": "stdout",
     "output_type": "stream",
     "text": [
      "Train Accuracy: 92.16%\n"
     ]
    }
   ],
   "source": [
    "test_acc = calculate_accuracy(train_dl, model, device)\n",
    "print(f'Train Accuracy: {test_acc:.2f}%')"
   ]
  },
  {
   "cell_type": "code",
   "execution_count": 10,
   "metadata": {},
   "outputs": [
    {
     "name": "stdout",
     "output_type": "stream",
     "text": [
      "Val Accuracy: 89.98%\n"
     ]
    }
   ],
   "source": [
    "test_acc = calculate_accuracy(val_dl, model, device)\n",
    "print(f'Val Accuracy: {test_acc:.2f}%')"
   ]
  }
 ],
 "metadata": {
  "kernelspec": {
   "display_name": "tvsb",
   "language": "python",
   "name": "python3"
  },
  "language_info": {
   "codemirror_mode": {
    "name": "ipython",
    "version": 3
   },
   "file_extension": ".py",
   "mimetype": "text/x-python",
   "name": "python",
   "nbconvert_exporter": "python",
   "pygments_lexer": "ipython3",
   "version": "3.10.12"
  }
 },
 "nbformat": 4,
 "nbformat_minor": 2
}
