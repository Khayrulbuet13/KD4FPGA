{
 "cells": [
  {
   "cell_type": "markdown",
   "metadata": {},
   "source": [
    "## Install LymphoMNIST\n",
    "This Jupyter notebook demonstrates how to install LymphoMNIST, preprocess the dataset, train and evaluate a model, and calculate inference speed. Follow the instructions step-by-step for a comprehensive understanding.\n"
   ]
  },
  {
   "cell_type": "markdown",
   "metadata": {},
   "source": [
    "### Install Required Packages\n",
    "Begin by installing LymphoMNIST and other required libraries."
   ]
  },
  {
   "cell_type": "code",
   "execution_count": null,
   "metadata": {},
   "outputs": [],
   "source": [
    "!pip install LymphoMNIST torch torchvision numpy torchsummary"
   ]
  },
  {
   "cell_type": "markdown",
   "metadata": {},
   "source": [
    "### Load Required Packages"
   ]
  },
  {
   "cell_type": "code",
   "execution_count": 1,
   "metadata": {},
   "outputs": [],
   "source": [
    "import torch\n",
    "from torchvision import models\n",
    "from torch import nn\n",
    "from torch.utils.data import DataLoader, Dataset, random_split\n",
    "from LymphoMNIST.LymphoMNIST import LymphoMNIST\n",
    "from torchvision import transforms\n",
    "from torchsummary import summary"
   ]
  },
  {
   "cell_type": "markdown",
   "metadata": {},
   "source": [
    "### Define Dataset and Helper Functions"
   ]
  },
  {
   "cell_type": "code",
   "execution_count": 10,
   "metadata": {},
   "outputs": [],
   "source": [
    "\n",
    "BATCH_SIZE = 64\n",
    "\n",
    "class FilteredLymphoMNIST(Dataset):\n",
    "    def __init__(self, original_dataset, labels_to_keep):\n",
    "        self.original_dataset = original_dataset\n",
    "        self.indices = [i for i, (_, label) in enumerate(original_dataset) if label in labels_to_keep]\n",
    "\n",
    "    def __getitem__(self, index):\n",
    "        return self.original_dataset[self.indices[index]]\n",
    "\n",
    "    def __len__(self):\n",
    "        return len(self.indices)\n",
    "\n",
    "def get_dataloaders(train_ds, val_ds, batch_size=BATCH_SIZE, **kwargs):\n",
    "    val_size = len(val_ds) // 2\n",
    "    test_size = len(val_ds) - val_size\n",
    "    val_ds, test_ds = random_split(val_ds, [val_size, test_size])\n",
    "    return (\n",
    "        DataLoader(train_ds, batch_size=batch_size, shuffle=True, **kwargs),\n",
    "        DataLoader(val_ds, batch_size=batch_size, shuffle=False, **kwargs),\n",
    "        DataLoader(test_ds, batch_size=batch_size, shuffle=False, **kwargs),\n",
    "    )\n",
    "    \n",
    "\n",
    "# Function to calculate accuracy\n",
    "def calculate_accuracy(loader, model, device):\n",
    "    model.eval()\n",
    "    correct = 0\n",
    "    total = 0\n",
    "    with torch.no_grad():\n",
    "        for images, labels in loader:\n",
    "            images, labels = images.to(device), labels.to(device)\n",
    "            outputs = model(images)\n",
    "            _, predicted = torch.max(outputs, 1)\n",
    "            total += labels.size(0)\n",
    "            correct += (predicted == labels).sum().item()\n",
    "\n",
    "    accuracy = 100 * correct / total\n",
    "    return accuracy\n",
    "    \n",
    "\n",
    "# Hyperparameters\n",
    "params = {\n",
    "    'batch_size': 16,\n",
    "    'im_size': 48,  # Resize dimension used during training\n",
    "    'model_checkpoint': \"../checkpoint/KD_21 October 14:13_resnet50_qt-1channel-no_normalize.pt\"  # Path to the saved model\n",
    "}\n",
    "\n",
    "BIGGER = 48\n",
    "\n",
    "import torchvision.transforms as T\n",
    "transform_student = T.Compose([\n",
    "    T.Resize((BIGGER, BIGGER)),\n",
    "    T.ToTensor(),\n",
    "    # T.Normalize([0.4819], [0.1484]),\n",
    "])"
   ]
  },
  {
   "cell_type": "markdown",
   "metadata": {},
   "source": [
    "### Initialize the Dataset"
   ]
  },
  {
   "cell_type": "code",
   "execution_count": 4,
   "metadata": {},
   "outputs": [
    {
     "name": "stdout",
     "output_type": "stream",
     "text": [
      "Dataset already exists. Skipping download.\n",
      "Dataset already exists. Skipping download.\n"
     ]
    }
   ],
   "source": [
    "# Initialize datasets\n",
    "labels_to_keep = [0, 1]\n",
    "original_train_ds = LymphoMNIST(root='../dataset', train=True, download=True, transform=transform_student, num_classes=3)\n",
    "original_test_ds = LymphoMNIST(root='../dataset', train=False, download=True, transform=transform_student, num_classes=3)\n",
    "\n",
    "# Filter datasets\n",
    "train_ds = FilteredLymphoMNIST(original_train_ds, labels_to_keep)\n",
    "test_ds = FilteredLymphoMNIST(original_test_ds, labels_to_keep)\n",
    "\n",
    "# Get dataloaders\n",
    "train_dl, val_dl, test_dl = get_dataloaders(train_ds, test_ds, batch_size=params['batch_size'], num_workers=4)"
   ]
  },
  {
   "cell_type": "markdown",
   "metadata": {},
   "source": [
    "### Define the Model Architecture"
   ]
  },
  {
   "cell_type": "code",
   "execution_count": 5,
   "metadata": {},
   "outputs": [],
   "source": [
    "# Load model\n",
    "device = 'cuda' if torch.cuda.is_available() else 'cpu'\n",
    "\n",
    "class QuantizedCNN(nn.Module):\n",
    "    def __init__(self, num_classes=2, input_size=(1, 28, 28)):\n",
    "        super(QuantizedCNN, self).__init__()\n",
    "        self.num_classes = num_classes\n",
    "        self.features = nn.Sequential(\n",
    "            nn.Conv2d(1, 16, kernel_size=3, stride=1, padding=0),\n",
    "            nn.ReLU(),\n",
    "            nn.MaxPool2d(kernel_size=2, stride=2, padding=0),\n",
    "            nn.Conv2d(16, 16, kernel_size=3, stride=1, padding=0),\n",
    "            nn.ReLU(),\n",
    "            nn.MaxPool2d(kernel_size=2, stride=2, padding=0)\n",
    "        )\n",
    "        with torch.no_grad():\n",
    "            dummy_input = torch.zeros(1, *input_size)\n",
    "            dummy_output = self.features(dummy_input)\n",
    "            num_ftrs = dummy_output.numel() // dummy_output.size(0)\n",
    "        self.classifier = nn.Sequential(\n",
    "            nn.Flatten(),\n",
    "            nn.Dropout(0.5),\n",
    "            nn.Linear(num_ftrs, num_classes),\n",
    "            nn.Softmax(dim=1)\n",
    "        )\n",
    "    def forward(self, x):\n",
    "        x = self.features(x)\n",
    "        x = self.classifier(x)\n",
    "        return x\n",
    "    \n",
    "    \n",
    "# Load saved weights\n",
    "model = QuantizedCNN(num_classes=2, input_size=(1, BIGGER, BIGGER)).to(device)\n",
    "\n",
    "model.load_state_dict(torch.load(params['model_checkpoint'], map_location=device))\n",
    "\n",
    "model = model.to(device)\n"
   ]
  },
  {
   "cell_type": "code",
   "execution_count": 6,
   "metadata": {},
   "outputs": [],
   "source": [
    "def evaluate_model(model, dataloader, device):\n",
    "    y_pred = []\n",
    "    y_true = []\n",
    "\n",
    "    # Set model to evaluation mode\n",
    "    model.eval()\n",
    "\n",
    "    with torch.no_grad():\n",
    "        for image, target in dataloader:\n",
    "            image, target = image.to(device), target.to(device)\n",
    "            outputs = model(image)\n",
    "            output = (torch.max(outputs, 1)[1]).data.cpu().numpy()\n",
    "            y_pred.extend(output)  # Save Prediction\n",
    "            target = target.data.cpu().numpy()\n",
    "            y_true.extend(target)  # Save target\n",
    "\n",
    "    return y_true, y_pred"
   ]
  },
  {
   "cell_type": "code",
   "execution_count": null,
   "metadata": {},
   "outputs": [],
   "source": [
    "from torchsummary import summary\n",
    "summary(model, (1, 48, 48))"
   ]
  },
  {
   "cell_type": "markdown",
   "metadata": {},
   "source": [
    "### Calculate Model Accuracy"
   ]
  },
  {
   "cell_type": "code",
   "execution_count": 12,
   "metadata": {},
   "outputs": [
    {
     "name": "stdout",
     "output_type": "stream",
     "text": [
      "Train Accuracy: 88.07%\n"
     ]
    }
   ],
   "source": [
    "# Calculate and print accuracies\n",
    "train_acc = calculate_accuracy(train_dl, model, device)\n",
    "print(f'Train Accuracy: {train_acc:.2f}%')\n"
   ]
  },
  {
   "cell_type": "code",
   "execution_count": 11,
   "metadata": {},
   "outputs": [
    {
     "name": "stdout",
     "output_type": "stream",
     "text": [
      "Validation Accuracy: 87.45%\n"
     ]
    }
   ],
   "source": [
    "\n",
    "val_acc = calculate_accuracy(val_dl, model, device)\n",
    "print(f'Validation Accuracy: {val_acc:.2f}%')"
   ]
  },
  {
   "cell_type": "code",
   "execution_count": 13,
   "metadata": {},
   "outputs": [
    {
     "name": "stdout",
     "output_type": "stream",
     "text": [
      "Test Accuracy: 87.94%\n"
     ]
    }
   ],
   "source": [
    "test_acc = calculate_accuracy(test_dl, model, device)\n",
    "print(f'Test Accuracy: {test_acc:.2f}%')"
   ]
  },
  {
   "cell_type": "markdown",
   "metadata": {},
   "source": [
    "## Inference time"
   ]
  },
  {
   "cell_type": "code",
   "execution_count": 12,
   "metadata": {},
   "outputs": [],
   "source": [
    "import time\n",
    "\n",
    "# Hyperparameters\n",
    "params = {\n",
    "    'batch_size': 16,  # Standard batch size\n",
    "    'im_size': 48,     # Resize dimension used during training\n",
    "    'num_warmup_batches': 5,  # Number of warmup batches\n",
    "    'num_batches': 100,  # Number of batches to measure (should cover 1000 images)\n",
    "}"
   ]
  },
  {
   "cell_type": "code",
   "execution_count": null,
   "metadata": {},
   "outputs": [],
   "source": [
    "\n",
    "import numpy as np\n",
    "# Function to calculate inference speed\n",
    "def calculate_inference_speed(loader, model, device, num_batches, warmup_batches):\n",
    "    model.eval()\n",
    "    total_time = 0.0\n",
    "    images_processed = 0\n",
    "    \n",
    "    # Warm-up loop\n",
    "    with torch.no_grad():\n",
    "        for i, (images, _) in enumerate(loader):\n",
    "            if i >= warmup_batches:\n",
    "                break\n",
    "            images = images.to(device)\n",
    "            _ = model(images)\n",
    "\n",
    "    # Timed inference loop\n",
    "    with torch.no_grad():\n",
    "        for i, (images, _) in enumerate(loader):\n",
    "            if i >= num_batches:\n",
    "                break\n",
    "            images = images.to(device)\n",
    "\n",
    "            start_time = time.time()  # Start timing\n",
    "            _ = model(images)\n",
    "            end_time = time.time()  # End timing\n",
    "\n",
    "            # Update total time and images processed\n",
    "            total_time += (end_time - start_time)\n",
    "            images_processed += images.size(0)\n",
    "\n",
    "    avg_inference_time_per_image = total_time / images_processed\n",
    "    images_per_second = 1.0 / avg_inference_time_per_image\n",
    "    return avg_inference_time_per_image, images_per_second\n",
    "\n",
    "# Run the inference test for 50 iterations and collect the results\n",
    "inference_times = []\n",
    "inference_speeds = []\n",
    "\n",
    "for _ in range(50):\n",
    "    avg_time, throughput = calculate_inference_speed(test_dl, model, device, params['num_batches'], params['num_warmup_batches'])\n",
    "    inference_times.append(avg_time)\n",
    "    inference_speeds.append(throughput)\n",
    "\n",
    "# Calculate the average and standard deviation of inference times and speeds\n",
    "mean_time = np.mean(inference_times)\n",
    "std_time = np.std(inference_times)\n",
    "mean_speed = np.mean(inference_speeds)\n",
    "std_speed = np.std(inference_speeds)\n",
    "\n",
    "print(f'Average Inference Time per Image (over 50 runs): {mean_time:.6f} seconds ± {std_time:.6f}')\n",
    "print(f'Average Inference Speed (over 50 runs): {mean_speed:.2f} images/second ± {std_speed:.2f}')"
   ]
  },
  {
   "cell_type": "markdown",
   "metadata": {},
   "source": [
    "Average Inference Time per Image (over 50 runs): 0.000015 seconds ± 0.000001\n",
    "Average Inference Speed (over 50 runs): 66891.07 images/second ± 5215.63"
   ]
  },
  {
   "cell_type": "markdown",
   "metadata": {},
   "source": [
    "# Keras inferencing"
   ]
  },
  {
   "cell_type": "markdown",
   "metadata": {},
   "source": []
  },
  {
   "cell_type": "code",
   "execution_count": null,
   "metadata": {},
   "outputs": [],
   "source": [
    "\n",
    "# %%\n",
    "import torch\n",
    "from torchvision import models\n",
    "from torch import nn\n",
    "from torch.utils.data import DataLoader, Dataset, random_split\n",
    "from LymphoMNIST.LymphoMNIST import LymphoMNIST\n",
    "from torchvision import transforms\n",
    "from torchsummary import summary\n",
    "\n",
    "# %% [markdown]\n",
    "# ### Define Dataset and Helper Functions\n",
    "\n",
    "# %%\n",
    "\n",
    "BATCH_SIZE = 64\n",
    "\n",
    "class FilteredLymphoMNIST(Dataset):\n",
    "    def __init__(self, original_dataset, labels_to_keep):\n",
    "        self.original_dataset = original_dataset\n",
    "        self.indices = [i for i, (_, label) in enumerate(original_dataset) if label in labels_to_keep]\n",
    "\n",
    "    def __getitem__(self, index):\n",
    "        return self.original_dataset[self.indices[index]]\n",
    "\n",
    "    def __len__(self):\n",
    "        return len(self.indices)\n",
    "\n",
    "def get_dataloaders(train_ds, val_ds, batch_size=BATCH_SIZE, **kwargs):\n",
    "    val_size = len(val_ds) // 2\n",
    "    test_size = len(val_ds) - val_size\n",
    "    val_ds, test_ds = random_split(val_ds, [val_size, test_size])\n",
    "    return (\n",
    "        DataLoader(train_ds, batch_size=batch_size, shuffle=True, **kwargs),\n",
    "        DataLoader(val_ds, batch_size=batch_size, shuffle=False, **kwargs),\n",
    "        DataLoader(test_ds, batch_size=batch_size, shuffle=False, **kwargs),\n",
    "    )\n",
    "    \n",
    "\n",
    "# Function to calculate accuracy\n",
    "def calculate_accuracy(loader, model, device):\n",
    "    model.eval()\n",
    "    correct = 0\n",
    "    total = 0\n",
    "    with torch.no_grad():\n",
    "        for images, labels in loader:\n",
    "            images, labels = images.to(device), labels.to(device)\n",
    "            outputs = model(images)\n",
    "            _, predicted = torch.max(outputs, 1)\n",
    "            total += labels.size(0)\n",
    "            correct += (predicted == labels).sum().item()\n",
    "\n",
    "    accuracy = 100 * correct / total\n",
    "    return accuracy\n",
    "    \n",
    "\n",
    "# Hyperparameters\n",
    "params = {\n",
    "    'batch_size': 16,\n",
    "    'im_size': 48,  # Resize dimension used during training\n",
    "}\n",
    "\n",
    "\n",
    "import torchvision.transforms as T\n",
    "transform_student = T.Compose([\n",
    "    T.Resize((params['im_size'], params['im_size'])),\n",
    "    T.ToTensor(),\n",
    "    T.Normalize([0.4819], [0.1484]),\n",
    "])\n",
    "\n",
    "# %% [markdown]\n",
    "# ### Initialize the Dataset\n",
    "\n",
    "# %%\n",
    "# Initialize datasets\n",
    "labels_to_keep = [0, 1]\n",
    "original_train_ds = LymphoMNIST(root='../dataset', train=True, download=True, transform=transform_student, num_classes=3)\n",
    "original_test_ds = LymphoMNIST(root='../dataset', train=False, download=True, transform=transform_student, num_classes=3)\n",
    "\n",
    "# Filter datasets\n",
    "train_ds = FilteredLymphoMNIST(original_train_ds, labels_to_keep)\n",
    "test_ds = FilteredLymphoMNIST(original_test_ds, labels_to_keep)\n",
    "\n",
    "\n",
    "\n",
    "# Get dataloaders\n",
    "train_dl, val_dl, test_dl = get_dataloaders(train_ds, test_ds, batch_size=params['batch_size'], num_workers=4)"
   ]
  },
  {
   "cell_type": "code",
   "execution_count": 3,
   "metadata": {},
   "outputs": [],
   "source": [
    "\n",
    "import numpy as np\n",
    "import tensorflow as tf\n",
    "from tensorflow.keras.layers import Input, Conv2D, MaxPooling2D, Flatten, Dense, Dropout, ReLU, Softmax\n",
    "from tensorflow.keras.models import Model\n",
    "import torch\n",
    "import torch.nn as nn\n",
    "\n",
    "# --- Create and Load Keras Model ---\n",
    "def create_keras_model():\n",
    "    input_layer = Input(shape=(48, 48, 1), name='input_layer')\n",
    "    x = Conv2D(16, (3, 3), padding='valid')(input_layer)\n",
    "    x = ReLU()(x)\n",
    "    x = MaxPooling2D(pool_size=2, strides=2, padding='valid')(x)\n",
    "    x = Conv2D(16, (3, 3), padding='valid')(x)\n",
    "    x = ReLU()(x)  # Add ReLU here\n",
    "    x = MaxPooling2D(pool_size=2, strides=2, padding='valid')(x)\n",
    "    # x = Permute((3, 1, 2))(x)  # Add Permute layer here\n",
    "    x = Flatten(name='flatten')(x)\n",
    "    x = Dropout(0.5)(x)\n",
    "    x = Dense(2)(x)\n",
    "    output_layer = Softmax()(x)\n",
    "    model = Model(inputs=input_layer, outputs=output_layer)\n",
    "    return model\n",
    "\n",
    "\n",
    "keras_model = create_keras_model()\n",
    "keras_model.load_weights('../converted_keras_model_final.h5')\n"
   ]
  },
  {
   "cell_type": "code",
   "execution_count": null,
   "metadata": {},
   "outputs": [],
   "source": [
    "\n",
    "# Function to calculate accuracy using Keras model\n",
    "def calculate_accuracy_keras(loader, model):\n",
    "    correct = 0\n",
    "    total = 0\n",
    "    for images, labels in loader:\n",
    "        # images: Tensor of shape (batch_size, channels, height, width)\n",
    "        # labels: Tensor of shape (batch_size)\n",
    "        \n",
    "        # Convert images to numpy arrays and reshape to (batch_size, height, width, channels)\n",
    "        images_np = images.numpy()\n",
    "        images_np = images_np.transpose(0, 2, 3, 1)  # Convert from (N, C, H, W) to (N, H, W, C)\n",
    "        \n",
    "        # Perform inference with Keras model\n",
    "        predictions = model.predict(images_np)\n",
    "        \n",
    "        # Get predicted labels\n",
    "        predicted_labels = np.argmax(predictions, axis=1)\n",
    "        labels_np = labels.numpy()\n",
    "        \n",
    "        total += labels_np.shape[0]\n",
    "        correct += (predicted_labels == labels_np).sum()\n",
    "        \n",
    "    accuracy = 100 * correct / total\n",
    "    return accuracy\n",
    "\n",
    "# Calculate and print accuracy on the test dataset\n",
    "test_accuracy = calculate_accuracy_keras(test_dl, keras_model)\n",
    "print(f'Test Accuracy with Keras model: {test_accuracy:.2f}%')"
   ]
  }
 ],
 "metadata": {
  "kernelspec": {
   "display_name": "tvsb",
   "language": "python",
   "name": "python3"
  },
  "language_info": {
   "codemirror_mode": {
    "name": "ipython",
    "version": 3
   },
   "file_extension": ".py",
   "mimetype": "text/x-python",
   "name": "python",
   "nbconvert_exporter": "python",
   "pygments_lexer": "ipython3",
   "version": "3.10.12"
  }
 },
 "nbformat": 4,
 "nbformat_minor": 2
}
